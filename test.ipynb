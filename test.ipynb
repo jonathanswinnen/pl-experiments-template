{
 "cells": [
  {
   "cell_type": "code",
   "execution_count": 2,
   "metadata": {},
   "outputs": [
    {
     "name": "stdout",
     "output_type": "stream",
     "text": [
      "Initializing experiment...\n"
     ]
    },
    {
     "ename": "FileNotFoundError",
     "evalue": "[Errno 2] No such file or directory: 'c'",
     "output_type": "error",
     "traceback": [
      "\u001b[0;31m---------------------------------------------------------------------------\u001b[0m",
      "\u001b[0;31mFileNotFoundError\u001b[0m                         Traceback (most recent call last)",
      "\u001b[1;32m/Users/jonathanswinnen/Projects/pl-template/test.ipynb Cell 1\u001b[0m line \u001b[0;36m3\n\u001b[1;32m      <a href='vscode-notebook-cell:/Users/jonathanswinnen/Projects/pl-template/test.ipynb#W0sZmlsZQ%3D%3D?line=0'>1</a>\u001b[0m \u001b[39mfrom\u001b[39;00m \u001b[39mexperiment\u001b[39;00m\u001b[39m.\u001b[39;00m\u001b[39mpl_experiment\u001b[39;00m \u001b[39mimport\u001b[39;00m PLExperiment\n\u001b[0;32m----> <a href='vscode-notebook-cell:/Users/jonathanswinnen/Projects/pl-template/test.ipynb#W0sZmlsZQ%3D%3D?line=2'>3</a>\u001b[0m PLExperiment(\u001b[39m\"\u001b[39;49m\u001b[39mconfigs/default.yaml\u001b[39;49m\u001b[39m\"\u001b[39;49m)\u001b[39m.\u001b[39mrun()\n",
      "File \u001b[0;32m~/Projects/pl-template/experiment/pl_experiment.py:23\u001b[0m, in \u001b[0;36mPLExperiment.__init__\u001b[0;34m(self, cfg_files, dict_edits)\u001b[0m\n\u001b[1;32m     21\u001b[0m \u001b[39mdef\u001b[39;00m \u001b[39m__init__\u001b[39m(\u001b[39mself\u001b[39m, cfg_files, dict_edits\u001b[39m=\u001b[39m{}):\n\u001b[1;32m     22\u001b[0m     \u001b[39mprint\u001b[39m(\u001b[39m\"\u001b[39m\u001b[39mInitializing experiment...\u001b[39m\u001b[39m\"\u001b[39m)\n\u001b[0;32m---> 23\u001b[0m     \u001b[39mself\u001b[39m\u001b[39m.\u001b[39mcfg \u001b[39m=\u001b[39m config\u001b[39m.\u001b[39mmerge(config\u001b[39m.\u001b[39;49mread(cfg_files), dict_edits)\n\u001b[1;32m     24\u001b[0m     cfg_txt \u001b[39m=\u001b[39m config\u001b[39m.\u001b[39mto_yaml(\u001b[39mself\u001b[39m\u001b[39m.\u001b[39mcfg)\n\u001b[1;32m     25\u001b[0m     \u001b[39mprint\u001b[39m(\u001b[39m\"\u001b[39m\u001b[39mDetected parameters:\u001b[39m\u001b[39m\\n\u001b[39;00m\u001b[39m-------\u001b[39m\u001b[39m\"\u001b[39m)\n",
      "File \u001b[0;32m~/Projects/pl-template/experiment/config.py:15\u001b[0m, in \u001b[0;36mread\u001b[0;34m(cfg_files)\u001b[0m\n\u001b[1;32m     13\u001b[0m out \u001b[39m=\u001b[39m {}\n\u001b[1;32m     14\u001b[0m \u001b[39mfor\u001b[39;00m cfg_file \u001b[39min\u001b[39;00m cfg_files:\n\u001b[0;32m---> 15\u001b[0m     out \u001b[39m=\u001b[39m merge(out, parse_yaml(cfg_file))\n\u001b[1;32m     16\u001b[0m \u001b[39mreturn\u001b[39;00m out\n",
      "File \u001b[0;32m~/Projects/pl-template/experiment/config.py:19\u001b[0m, in \u001b[0;36mparse_yaml\u001b[0;34m(cfg_file)\u001b[0m\n\u001b[1;32m     18\u001b[0m \u001b[39mdef\u001b[39;00m \u001b[39mparse_yaml\u001b[39m(cfg_file):\n\u001b[0;32m---> 19\u001b[0m     \u001b[39mwith\u001b[39;00m \u001b[39mopen\u001b[39;49m(cfg_file) \u001b[39mas\u001b[39;00m f:\n\u001b[1;32m     20\u001b[0m         \u001b[39mreturn\u001b[39;00m yaml\u001b[39m.\u001b[39mload(f, Loader\u001b[39m=\u001b[39myaml\u001b[39m.\u001b[39mSafeLoader)\n",
      "\u001b[0;31mFileNotFoundError\u001b[0m: [Errno 2] No such file or directory: 'c'"
     ]
    }
   ],
   "source": [
    "from experiment.pl_experiment import PLExperiment\n",
    "\n",
    "PLExperiment([\"configs/default.yaml\"]).run()"
   ]
  }
 ],
 "metadata": {
  "kernelspec": {
   "display_name": "env",
   "language": "python",
   "name": "python3"
  },
  "language_info": {
   "codemirror_mode": {
    "name": "ipython",
    "version": 3
   },
   "file_extension": ".py",
   "mimetype": "text/x-python",
   "name": "python",
   "nbconvert_exporter": "python",
   "pygments_lexer": "ipython3",
   "version": "3.11.5"
  }
 },
 "nbformat": 4,
 "nbformat_minor": 2
}
